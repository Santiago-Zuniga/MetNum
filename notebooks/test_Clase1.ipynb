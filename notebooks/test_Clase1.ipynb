{
 "cells": [
  {
   "cell_type": "markdown",
   "id": "c666ae62",
   "metadata": {},
   "source": [
    "# Raíces de funciones\n",
    "\n",
    "El problema de hallar la raíz de una función, puede expresarse\n",
    "formalmente como:\n",
    "\n",
    "Dada $f(x): \\mathbb{R} \\rightarrow \\mathbb{R}$, hallar $x^*$ : $f(x^*)=0$.\n",
    "\n",
    "En este capítulo veremos algunos métodos numéricos para hallar\n",
    "aproximaciones a la raíz de una función."
   ]
  },
  {
   "cell_type": "markdown",
   "id": "ff7754d7",
   "metadata": {},
   "source": [
    "## Bisección\n",
    "\n",
    "El primer m\\'etodo que mencionaremos es el de {\\em bisecci\\'on}, para ello,\n",
    "recordamos el teorema del valor medio:\n",
    "\n",
    "Si $f(x):\\mathbb{R}  \\rightarrow \\mathbb{R} $ es continua, y $f(a)\\le g \\le f(b) \\,\n",
    "\\Rightarrow \\, \\exists x^* \\in [a,b] : f(x^*)=g$\n",
    "\n",
    "Tomando $g=0$, podemos asegurar que si el signo de $f(a)$ es distinto al signo\n",
    "de $f(b)$, entonces habr\\'a una ra\\'{\\i}z de $f(x)$ en el intervalo $[a,b]$.\n",
    "\n",
    "Tambi\\'en podr\\'{\\i}amos decir que tanto $a$ como $b$ son ra\\'{\\i}ces de $f(x)$\n",
    "_con error menor que $|a-b|$_. Yendo un paso m\\'as adelante, podr\\'{\\i}amos\n",
    "decir que $m$, definido como $m=\\frac{a+b}{2}$ es ra\\'iz de $f(x)$ con error\n",
    "menor que $\\frac{|a-b|}{2}$.\n",
    "\n",
    "Un ejemplo de implementación es el siguiente:\n"
   ]
  },
  {
   "cell_type": "code",
   "execution_count": 16,
   "id": "fcf02eee",
   "metadata": {},
   "outputs": [
    {
     "data": {
      "text/plain": [
       "[<matplotlib.lines.Line2D at 0x28d14916a90>]"
      ]
     },
     "execution_count": 16,
     "metadata": {},
     "output_type": "execute_result"
    },
    {
     "data": {
      "image/png": "[encoded data removed]",
      "text/plain": [
       "<Figure size 432x288 with 1 Axes>"
      ]
     },
     "metadata": {
      "needs_background": "light"
     },
     "output_type": "display_data"
    }
   ],
   "source": [
    "import numpy as np\n",
    "import matplotlib.pyplot as plt\n",
    "\n",
    "f = lambda x: np.log(x) + np.cos(x)*np.exp(-0.1*x)-2.0\n",
    "xg = np.linspace(4,15,200)\n",
    "plt.grid()\n",
    "plt.axhline(y=0,color='k')\n",
    "plt.plot(xg,f(xg))\n"
   ]
  },
  {
   "cell_type": "code",
   "execution_count": 6,
   "id": "b1c68207",
   "metadata": {},
   "outputs": [
    {
     "name": "stdout",
     "output_type": "stream",
     "text": [
      "Iteración    a            b            error       \n",
      "1            4.75         5.5          0.418471165 \n",
      "2            5.125        5.5          0.1256704432\n",
      "3            5.125        5.3125       0.0020525841\n",
      "4            5.21875      5.3125       0.0599408749\n",
      "5            5.265625     5.3125       0.0284566567\n",
      "6            5.289062     5.3125       0.0130777303\n",
      "7            5.300781     5.3125       0.0054812004\n",
      "8            5.306641     5.3125       0.0017064285\n",
      "9            5.306641     5.30957      0.0001750523\n",
      "10           5.308105     5.30957      0.0007651951\n",
      "11           5.308838     5.30957      0.0002949481\n",
      "12           5.309204     5.30957      5.99171e-05 \n",
      "13           5.309204     5.309387     5.75753e-05 \n",
      "14           5.309296     5.309387     1.169e-06   \n",
      "Iteraciones totales= 14  Raíz= 5.309295654296875\n"
     ]
    },
    {
     "data": {
      "text/plain": [
       "5.309295654296875"
      ]
     },
     "execution_count": 6,
     "metadata": {},
     "output_type": "execute_result"
    }
   ],
   "source": [
    "def bisect(f,a,b,tol, maxiter):  #definimos una función que encuentra la raiz de una función f, en el interbalo [a,b]\n",
    "    err = tol + 100 #inicializamos el error inicial con un valor arbitrariamente alto\n",
    "    niter = 0\n",
    "    print('{:<12} {:<12} {:<12} {:<12}'.format('Iteración','a','b','error'))\n",
    "    while err > tol and niter < maxiter:\n",
    "        niter +=1\n",
    "        m = (a + b)/2.0\n",
    "        fm = f(m)\n",
    "        fa = f(a)\n",
    "        if (fa * fm < 0.0):\n",
    "            b = m\n",
    "        else:\n",
    "            a = m\n",
    "        err = abs(fm)\n",
    "        print('{:<12} {:<12} {:<12} {:<12}'.format(niter, round(a,6), round(b,6), round(err,10)))\n",
    "    print('Iteraciones totales=',niter,' Raíz=',m)\n",
    "    return m\n",
    "\n",
    "bisect(f,4,5.5,1e-5,15)"
   ]
  },
  {
   "cell_type": "markdown",
   "id": "c9a78c2c",
   "metadata": {},
   "source": [
    "El algoritmo se asegura de mantener el signo de $f(a)$ distinto al signo de\n",
    "$f(b)$, mientras el intervalo se va reduciendo a la mitad en cada paso.\n",
    "Podr\\'{\\i}a suceder que el n\\'umero de ra\\'ices en el intervalo original sea\n",
    "mayor que 1 (n\\'otese que debe ser impar), el algoritmo selecciona siempre\n",
    "el sub-intervalo que contenga un n\\'umero impar de ra\\'{\\i}ces.\n",
    "\n",
    "Podemos estimar entonces el error cometido al detener el algoritmo luego de\n",
    "$n$ pasos ($n$ es la cantidad de veces que se ejecutan las instrucciones\n",
    "dentro del bloque \"while\"):\n",
    "\\begin{equation}\\label{conv_bisection}\n",
    "|m-x^*| \\leq |a-b| \\left(\\frac 12\\right)^n\n",
    "\\end{equation}\n",
    "Teniendo en cuenta que en una computadora estaremos trabajando con variables\n",
    "de punto flotante en lugar de números reales, podemos interpretar que\n",
    "-excluyendo casos particulares cuando la ra\\'{\\i}z es cercana a cero-,\n",
    "estaremos determinando una cifra binaria m\\'as en la mantisa de la soluci\\'on\n",
    "en cada paso de tiempo.\n",
    "\n",
    "Si tenemos en cuenta el est\\'andar [IEEE 754](https://en.wikipedia.org/wiki/IEEE_754)\n",
    "para la representaci\\'on de\n",
    "n\\'umeros en punto flotante, una variable de precisi\\'on simple utiliza\n",
    "24 bits en su mantisa, mientras que una de doble precisi\\'on destina\n",
    "al efecto 53 bits. En estos casos no se justificar\\'{\\i}a exceder las 24 (53)\n",
    "iteraciones del algoritmo para alcanzar la m\\'axima precisi\\'on posible."
   ]
  },
  {
   "cell_type": "markdown",
   "id": "81680c98",
   "metadata": {},
   "source": [
    "## Métodos de aproximaciones sucesivas\n",
    "Llamaremos de esta manera a una metodolog\\'{\\i}a general para obtener,\n",
    "a partir de la funci\\'on dato y una aproximaci\\'on de la ra\\'{\\i}z, una\n",
    "nueva aproximaci\\'on. De esta manera, partiendo de una aproximaci\\'on\n",
    "inicial $x_0$ (a veces denominado \"semilla\") aplicamos la\n",
    "metodolog\\'{\\i}a para obtener $x_1$ y luego\n",
    "la continuamos aplicando sucesivamente. Utilizaremos la notaci\\'on\n",
    "$\\varphi(x)$ para esta {\\em funci\\'on de iteraci\\'on}: $x_1=\\varphi(x_0)$,\n",
    "$x_2=\\varphi(x_1)$, ... en general:\n",
    "\\begin{equation}\\label{iter_ptofijo}\n",
    "x_{n+1}=\\varphi\\left(x_n\\right)\n",
    "\\end{equation}\n",
    "Si esta sucesi\\'on de aproximaciones converge, digamos que al valor\n",
    "$\\hat{x} = \\Atop{\\lim}{\\scriptstyle n \\rightarrow \\infty} x_n$,\n",
    "$\\hat{x} = \\lim\\limits_{n \\to \\infty} x_n$,\n",
    "se dice que $\\hat{x}$ es un\n",
    "{\\em punto fijo} de $\\varphi(x)$.\n",
    "La idea es construir $\\varphi(x)$ de manera que tenga un punto fijo en la\n",
    "ra\\'{\\i}z de la funcion $f(x)$. Una elecci\\'on trivial ser\\'{\\i}a:\n",
    "$\\varphi(x) = f(x) + x$. Otra posibilidad es operar con la expresi\\'on\n",
    "de $f(x)$, para que quede en la forma $x=g(x)$ y tomar $\\varphi(x)=g(x)$.\n",
    "En ambos casos se cumple que si $\\hat{x}$ es punto fijo de $\\varphi$\n",
    "($\\varphi(\\hat{x})=\\hat{x}$), entonces $f(\\hat{x})=\\varphi(\\hat{x})-\\hat{x}=0$.\n",
    "Pasemos a trabajar entonces con nuestro nuevo problema:\n",
    "\n",
    "Dada $\\varphi(x): \\R \\rightarrow \\R$, hallar $x^*$ : $\\varphi(x^*)=x^*$.\n",
    "\n",
    "Supongamos que $\\varphi(x)$ tiene un punto fijo $x^*$ y resulta continua y\n",
    "suficientemente diferenciable en un entorno del mismo. Podemos entonces\n",
    "plantear un desarrollo de Taylor en torno al punto fijo, y evaluarlo en\n",
    "$x_n$, una aproximaci\\'on al punto fijo:\n",
    "$$\n",
    "x_{n+1} = \\varphi(x_n)=\\varphi(x^*) + \\varphi^\\prime(x^*)(x_n-x^*) +\n",
    "  \\varphi^{\\prime\\prime}(x^*)\\frac{(x_n-x^*)^2}{2} + ...\n",
    "$$\n",
    "Si definimos $\\epsilon_n = x_n-x^*$ (el error de la aproximaci\\'on $x_n$),\n",
    "restando $x^*$ en la expresi\\'on anterior se obtiene:\n",
    "$$\n",
    "x_{n+1}-x^*=\\epsilon_{n+1}=\\varphi(x^*) - x^* +\\varphi^\\prime(x^*)\\epsilon_n +\n",
    "  \\varphi^{\\prime\\prime}(x^*)\\epsilon_n^2 + ...\n",
    "$$\n",
    "observando que $\\varphi(x^*)=x^*$, la expresi\\'on resulta:\n",
    "\\begin{equation}\\label{error_ptofijo}\n",
    "\\epsilon_{n+1}=\\varphi^\\prime(x^*)\\epsilon_n +\n",
    "\\varphi^{\\prime\\prime}(x^*)\\frac{\\epsilon_n^2}{2} +\n",
    "\\varphi^{\\prime\\prime\\prime}(x^*)\\frac{\\epsilon_n^3}{3!} + ...\n",
    "\\end{equation}\n",
    "Suficientemente cerca del punto fijo, el t\\'ermino dominante ser\\'a el de\n",
    "la potencia m\\'as baja.\n",
    "Si $\\varphi^\\prime(x^*)\\neq 0$ el error evolucionar\\'a como:\n",
    "\\begin{equation}\\label{conv_ptofijo_lineal}\n",
    "\\left|\\epsilon_{n+1}\\right| \\simeq \\left|\\varphi^\\prime(x^*)\\right|\n",
    "\\left|\\epsilon_n\\right|\n",
    "\\end{equation}\n",
    "y ser\\'a condici\\'on necesaria para que el error se reduzca (y que el\n",
    "m\\'etodo converja) que\n",
    "$\\left|\\varphi^\\prime(x^*)\\right| <1$\n",
    "\n",
    "Por otra parte, si $\\left|\\varphi^\\prime(x^*)\\right| = 0$ y\n",
    "$\\varphi^{\\prime\\prime}(x^*)\\neq 0$, el error se comportar\\'a como:\n",
    "\\begin{equation}\\label{conv_ptofijo_cuad}\n",
    "\\left|\\epsilon_{n+1}\\right| \\simeq \\left|\\varphi^{\\prime\\prime}(x^*)\\right|\n",
    "\\left|\\epsilon_n\\right|^2\n",
    "\\end{equation}\n"
   ]
  },
  {
   "cell_type": "markdown",
   "id": "d8ed8cc3",
   "metadata": {},
   "source": [
    "### Orden de convergencia\n",
    "\n",
    "Si existen $p\\in \\mathbb{N}$ y $c\\in \\R$ tales que:\n",
    "$\\Atop{\\lim}{\\scriptstyle n\\rightarrow\\infty}$\n",
    "$\\lim\\limits_{n \\to \\infty}\\frac{\\left|\\epsilon_{n+1}\\right|}{\\left|\\epsilon_n\\right|^p} = c$,  se dice que el m\\'etodo converge con orden $p$.\n",
    "\n",
    "De acuerdo a la expresi\\'on \\ref{error_ptofijo}, podemos concluir que en un\n",
    "m\\'etodo de aproximaciones sucesivas, con funci\\'on de iteraci\\'on\n",
    "$\\varphi(x)$ suficientemente derivable en un entorno del punto fijo, el orden\n",
    "de convergencia est\\'a dado por el primer orden de derivada que no se anula\n",
    "en el punto fijo.\n",
    "\n",
    "Observaciones:\n",
    "\n",
    "* Si $\\varphi^\\prime(x^*)\\neq 0$, el orden $p$ es 1 y la constante\n",
    "  $c$ es justamente $\\varphi^\\prime(x^*)$.\n",
    "* Si $\\varphi^\\prime(x^*) = 0$\n",
    "  y $\\varphi^{\\prime\\prime}(x^*)\\neq 0$, el orden de convergencia es 2 y la\n",
    "  constante $c$ vale $\\varphi^{\\prime\\prime}(x^*)/2$.\n",
    "* Podr\\'{\\i}amos adem\\'as considerar que el m\\'etodo de bisecci\\'on resulta\n",
    "  ``competitivo'' contra un m\\'etodo de aproximaciones sucesivas\n",
    "  con convergencia de orden 1 y constante $c=1/2$.\n",
    "* El n\\'umero de cifras significativas en el resultado crece con el\n",
    "  n\\'umero de iteraciones elevado al orden de convergencia.\n",
    "  \n",
    "Un ejemplo de implementación es el siguiente:\n"
   ]
  },
  {
   "cell_type": "code",
   "execution_count": 28,
   "id": "6f17bdd8",
   "metadata": {},
   "outputs": [
    {
     "data": {
      "text/plain": [
       "[<matplotlib.lines.Line2D at 0x28d14aa0b80>]"
      ]
     },
     "execution_count": 28,
     "metadata": {},
     "output_type": "execute_result"
    },
    {
     "data": {
      "image/png": "[encoded data removed]",
      "text/plain": [
       "<Figure size 432x288 with 1 Axes>"
      ]
     },
     "metadata": {
      "needs_background": "light"
     },
     "output_type": "display_data"
    }
   ],
   "source": [
    "f = lambda x: 1 + np.exp(x)/10\n",
    "x0 = 2.2\n",
    "\n",
    "xg = np.linspace(0,2.5,200)\n",
    "plt.grid()\n",
    "plt.plot(xg,f(xg))\n",
    "plt.plot(xg,xg, 'k')"
   ]
  },
  {
   "cell_type": "code",
   "execution_count": 29,
   "id": "478f0cdb",
   "metadata": {},
   "outputs": [
    {
     "name": "stdout",
     "output_type": "stream",
     "text": [
      "Iteración    x_n          error        \n",
      "1            1.902501     0.2322374362\n",
      "2            1.670264     0.1389069201\n",
      "3            1.531357     0.0689122024\n",
      "4            1.462445     0.0307948333\n",
      "5            1.43165      0.0130900019\n",
      "6            1.41856      0.0054432468\n",
      "7            1.413117     0.0022425872\n",
      "8            1.410874     0.0009203886\n",
      "9            1.409954     0.0003771432\n",
      "10           1.409577     0.0001544399\n",
      "Iteraciones totales= 10  Punto fijo= 1.4095765902690762\n"
     ]
    }
   ],
   "source": [
    "def suc_aprox(f,x0,tol, maxiter):  #definimos una función que encuentra la raiz de una función f, a partir de la semilla x0\n",
    "    err = tol + 100 #inicializamos el error inicial con un valor arbitrariamente alto\n",
    "    niter = 0\n",
    "    x = [x0]\n",
    "    y = [0]\n",
    "    xprev = x0\n",
    "    print('{:<12} {:<12} {:<12} '.format('Iteración','x_n','error'))\n",
    "    while err > tol and niter < maxiter:\n",
    "        niter += 1    # incrementa contador\n",
    "    # iteración propiamente dicha:  \n",
    "        xnext=f(xprev)\n",
    "    # Guarda un par de puntos de la secuencia:\n",
    "    # -Punto sobre y=f(x)0 \n",
    "        x.append(xprev)\n",
    "        y.append(xnext)\n",
    "    # -Punto sobre y=x\n",
    "        x.append(xnext)\n",
    "        y.append(xnext)\n",
    "    # Calcula cuánto fue la corrección\n",
    "        corr=np.linalg.norm(xnext-xprev)\n",
    "    # Guarda último valor de la aproximación en xprev\n",
    "        xprev = xnext\n",
    "        err = abs(f(xnext)-xnext)\n",
    "        print('{:<12} {:<12} {:<12}'.format(niter, round(xnext,6), round(err,10)))\n",
    "    print('Iteraciones totales=',niter,' Punto fijo=',xnext)\n",
    "    return xnext, np.array(x), np.array(y)\n",
    "\n",
    "m, x, y = suc_aprox(f,x0,1e-5, 10)"
   ]
  },
  {
   "cell_type": "code",
   "execution_count": 31,
   "id": "12f73dd3",
   "metadata": {},
   "outputs": [
    {
     "data": {
      "text/plain": [
       "[<matplotlib.lines.Line2D at 0x28d12199460>]"
      ]
     },
     "execution_count": 31,
     "metadata": {},
     "output_type": "execute_result"
    },
    {
     "data": {
      "image/png": "[encoded data removed]",
      "text/plain": [
       "<Figure size 432x288 with 1 Axes>"
      ]
     },
     "metadata": {
      "needs_background": "light"
     },
     "output_type": "display_data"
    }
   ],
   "source": [
    "# Grafica: y=x, y=f(x), puntos de la secuencia y la recta y=x\n",
    "plt.plot(xg, f(xg))\n",
    "plt.plot(x, y)\n",
    "plt.plot(xg,xg, 'k', alpha = 0.5, ls = 'dashed')\n",
    "plt.plot(x0, 0, 'o') # semilla inicial\n"
   ]
  },
  {
   "cell_type": "markdown",
   "id": "978df994",
   "metadata": {},
   "source": [
    "### Interpretación gráfica\n",
    "Supongamos que estamos en el caso en que  $\\varphi^\\prime(x^*) \\neq 0$. La\n",
    "figura \\ref{pfijoIGraf} muestra los primeros dos pasos del proceso iterativo\n",
    "en 4 casos distintos. En todos los diagramas se grafica $y=\\varphi(x)$ y la\n",
    "recta $y=x$. El punto fijo de la funci\\'on, $x^*$ es donde se cruzan estas\n",
    "curvas. En la fila de arriba se ilustran a la izquierda el caso\n",
    "$0<\\varphi^\\prime(x^*)<1$ y a la derecha el caso $-1<\\varphi^\\prime(x^*)<0$,\n",
    "ambos resultan en convergencia. En la fila de abajo, a la izquierda es el\n",
    "caso $\\varphi^\\prime(x^*)>1$ y a la derecha el caso $\\varphi^\\prime(x^*)<-1$,\n",
    "en estos casos, por m\\'as cercana que se encuentre la semilla al punto fijo,\n",
    "el proceso diverge.\n",
    "\n",
    "La metodolog\\'{\\i}a, com\\'un a todos los casos es la siguiente: comenzamos en\n",
    "el eje $x$, en la posici\\'on de la aproximaci\\'on inicial, $x_0$. Subimos hasta\n",
    "encontrar la curva $y=\\varphi(x_0)$ (evaluamos la funci\\'on $\\varphi(x)$ en\n",
    "$x_0$ para encontar $x_1=\\varphi(x_0)$. Para encontrar la posici\\'on en el\n",
    "eje $x$ de $x_1$, dibujamos la flecha horizontal desde el punto ($x_0,x_1$)\n",
    "hasta el punto ($x_1, x_1$), sobre la recta $y=x$. Para evaluar $\\varphi(x)$\n",
    "en $x_1$ se dibuja la flecha vertical hasta encontar la curva $y=\\varphi(x)$,\n",
    "en el punto ($x_1,x_2$) y as\\'{\\i} sucesivamente.\n",
    "\n",
    "![Evoluci\\'on de las primeras iteraciones del m\\'etodo de aproximaciones\n",
    "  sucesivas en diferentes casos](./pfijo.png)\n",
    "  "
   ]
  },
  {
   "cell_type": "markdown",
   "id": "5e0ea9de",
   "metadata": {},
   "source": [
    "### El método de Newton-Raphson\n",
    "\n",
    "Volviendo al problema de hallar la ra\\'{\\i}z de la funci\\'on $f(x)$, \n",
    "utilicemos la aproximaci\\'on en serie de Taylor en un entorno de la\n",
    "aproximaci\\'on $x_n$, para obtener un m\\'etodo iterativo:\n",
    "\\begin{equation}\n",
    "  f(x) = f(x_n) + f^\\prime(x_n)(x-x_n)+f^{\\prime\\prime}(\\xi)\\frac{(x-x_n)^2}{2}\n",
    "\\end{equation}\n",
    "donde $\\xi \\in [x, x_n]$. Evaluando la expresi\\'on en la\n",
    "ra\\'{\\i}z de $f(x)$, $x^*$, se obtiene:\n",
    "\\begin{equation}\n",
    "  f(x^*) = 0 = f(x_n) + f^\\prime(x_n)(x^*-x_n) +\n",
    "  f^{\\prime\\prime}(\\xi)\\frac{(x^*-x_n)^2}{2}\n",
    "\\end{equation}\n",
    "Si $x_n$ est\\'a ``suficientemente cercano'' a $x^*$, el t\\'ermino cuadr\\'atico\n",
    "es mucho menor que el resto y podemos plantear:\n",
    "\\begin{eqnarray}\n",
    "  0 &\\simeq& f(x_n) + f^{\\prime}(x_n)(x^* - x_n)\\\\\n",
    "  x^* &\\simeq& x_n - \\frac{f(x_n)}{f^\\prime(x_n)}\n",
    "\\end{eqnarray}\n",
    "Ahora bien, esta es una aproximaci\\'on de la ra\\'{\\i}z, y podemos as\\'i definir\n",
    "nuestra nueva aproximaci\\'on $x_{n+1}$, y la funci\\'on de iteraci\\'on\n",
    "correspondiente al marco de aproximaciones sucesivas:\n",
    "\\begin{equation}\\label{Newtonraphson}\n",
    "  x_{n+1}=\\varphi(x_n) = x_n - \\frac{f(x_n)}{f^\\prime(x_n)}\n",
    "\\end{equation}\n",
    "Para evaluar el orden de convergencia, calculemos $\\varphi\\prime(x)$ en su\n",
    "punto fijo $x^*$, que se corresponde con la ra\\'{\\i}z de $f(x)$:\n",
    "\\begin{eqnarray}\n",
    "         \\varphi^\\prime(x^*)&=&1 - \\cancelto{1}{\\frac{f^\\prime(x^*) f^\\prime(x^*) -\n",
    "           \\cancelto{0}{f(x^*)} f^{\\prime\\prime}(x^*)}\n",
    "         {\\left[f^\\prime(x^*)\\right]^2}}=0\n",
    "\\end{eqnarray}\n",
    "En general resulta $\\varphi^{\\prime\\prime}(x^*)\\neq 0$, de modo\n",
    "que el m\\'etodo resultante tiene convergencia cuadr\\'atica. Pueden darse\n",
    "casos particulares en que  $\\varphi^{\\prime\\prime}(x^*) = 0$ y la convergencia\n",
    "es de mayor orden. Otro caso particular es cuando la ra\\'{\\i}z tiene\n",
    "multiplicidad mayor que 1. En ese caso $f^\\prime(x^*) = 0$ y no necesariamente\n",
    "se cumple que $\\lim\\limits_{x \\to x^*} \\varphi^{\\prime}(x)=0$, resultando\n",
    "en convergencia {\\em lineal}.\n",
    "\n",
    "Otra forma de definir el M\\'etodo de Newton consiste en una construcci\\'on\n",
    "gr\\'afica. Se toma la curva de\n",
    "la funci\\'on, se traza la recta tangente en $(x^{(k)},f(x^{(k)}))$ y el punto en\n",
    "donde corta al eje $x$ es la nueva aproximaci\\'on $x^{(k+1)}$.\n",
    "\n",
    "Un ejemplo de implementación es el siguiente:\n"
   ]
  },
  {
   "cell_type": "code",
   "execution_count": 34,
   "id": "93935c53",
   "metadata": {},
   "outputs": [
    {
     "data": {
      "text/plain": [
       "<matplotlib.lines.Line2D at 0x28d14bf8820>"
      ]
     },
     "execution_count": 34,
     "metadata": {},
     "output_type": "execute_result"
    },
    {
     "data": {
      "image/png": "[encoded data removed]",
      "text/plain": [
       "<Figure size 432x288 with 1 Axes>"
      ]
     },
     "metadata": {
      "needs_background": "light"
     },
     "output_type": "display_data"
    }
   ],
   "source": [
    "f = lambda x: np.sin(x-1)\n",
    "df = lambda x: np.cos(x-1)\n",
    "x0 = 2.0\n",
    "\n",
    "xg = np.linspace(0,2.5,200)\n",
    "plt.grid()\n",
    "plt.plot(xg,f(xg))\n",
    "plt.axhline(y=0,color='k')\n"
   ]
  },
  {
   "cell_type": "code",
   "execution_count": 37,
   "id": "95b6e790",
   "metadata": {},
   "outputs": [
    {
     "name": "stdout",
     "output_type": "stream",
     "text": [
      "Iteración    x_n          error        \n",
      "1            0.442592     0.5289880971\n",
      "2            1.065936     0.0658886846\n",
      "3            0.999904     9.57219e-05 \n",
      "4            1.0          0.0         \n",
      "Iteraciones totales= 4  Punto fijo= 1.0000000000002924\n"
     ]
    }
   ],
   "source": [
    "def newton(f,x0,tol, maxiter):  #definimos una función que encuentra la raiz de una función f, a partir de la semilla x0\n",
    "    err = tol + 100 #inicializamos el error inicial con un valor arbitrariamente alto\n",
    "    niter = 0\n",
    "    x = [x0]\n",
    "    y = [0]\n",
    "    xprev = x0\n",
    "    print('{:<12} {:<12} {:<12} '.format('Iteración','x_n','error'))\n",
    "    while err > tol and niter < maxiter:\n",
    "        niter += 1    # incrementa contador\n",
    "    #iteración propiamente dicha:  \n",
    "        xnext=xprev-f(xprev)/df(xprev)\n",
    "    # Guarda un par de puntos de la secuencia:\n",
    "    # -Punto sobre y=f(x)\n",
    "        x.append(xprev)\n",
    "        y.append(f(xprev))\n",
    "    # -Punto sobre y=0\n",
    "        x.append(xnext)\n",
    "        y.append(0)\n",
    "    # Calcula cuánto fue la corrección\n",
    "        corr=np.linalg.norm(xnext-xprev)\n",
    "    # Guarda último valor de la aproximación en xprev\n",
    "        xprev = xnext\n",
    "        err = abs(f(xnext))\n",
    "        print('{:<12} {:<12} {:<12}'.format(niter, round(xnext,6), round(err,10)))\n",
    "    print('Iteraciones totales=',niter,' Punto fijo=',xnext)\n",
    "    return xnext, np.array(x), np.array(y)\n",
    "\n",
    "m, x, y = newton(f,x0,1e-5, 10)"
   ]
  },
  {
   "cell_type": "code",
   "execution_count": 40,
   "id": "1f390c2a",
   "metadata": {},
   "outputs": [
    {
     "data": {
      "text/plain": [
       "[<matplotlib.lines.Line2D at 0x28d14cda910>]"
      ]
     },
     "execution_count": 40,
     "metadata": {},
     "output_type": "execute_result"
    },
    {
     "data": {
      "image/png": "[encoded data removed]",
      "text/plain": [
       "<Figure size 432x288 with 1 Axes>"
      ]
     },
     "metadata": {
      "needs_background": "light"
     },
     "output_type": "display_data"
    }
   ],
   "source": [
    "plt.plot(xg, f(xg))\n",
    "plt.plot(x, y)\n",
    "plt.plot(xg,0*xg, 'k', alpha = 0.5, ls = 'dashed')\n",
    "plt.plot(x0, 0, 'o') # semilla inicial\n"
   ]
  },
  {
   "cell_type": "markdown",
   "id": "d202cf3e",
   "metadata": {},
   "source": [
    "### Newton-Raphson multi-dimensional\n",
    "Si se tiene un sistema de $m$ ecuaciones con $m$ inc\\'ognitas, o, m\\'as\n",
    "formalmente necesitamos:\n",
    "\n",
    "Dada $\\vec{f}(\\vec{x}): \\R \\rightarrow \\R$, hallar $\\vec{x^*} \\in \\R^m$ tal que \n",
    "$\\vec{f}(\\vec{x^*}) = \\vec{0}$.\n",
    "\n",
    "podemos utilizar la f\\'ormula de Taylor vectorial, desarrollemos cada una\n",
    "de las componentes de $\\vec{f}$, en un entorno del punto $\\vec{x_n}$, hasta\n",
    "primer orden:\n",
    "\\begin{equation}\n",
    "  f_i(\\vec{x})=f_i(\\vec{x_n})+\n",
    "  \\sum_{j=1}^{m} \\frac{\\partial f_i}{\\partial x_j} (x_j - {x_n}_j) + O(\\Delta x^2),\n",
    "  \\,\\,\\, i=1,2, ... m\n",
    "\\end{equation}\n",
    "o, simplificando:\n",
    "\\begin{equation}\n",
    "  \\vec{f}(\\vec{x})=\\vec{f}(\\vec{x_n}) +\n",
    "  \\mathbb{J} \\left(\\vec{x}-\\vec{x_n}\\right) + O(\\Delta x^2)\n",
    "\\end{equation}\n",
    "donde utilizamos que $\\mathbb{J}$ es la {\\em matriz Jacobiana} de la funci\\'on\n",
    "$\\vec{f}$, tal que: $\\mathbb{J}_{i,j}=\\frac{\\partial f_i}{\\partial x_j}$.\n",
    "\n",
    "En forma an\\'aloga al caso unidimensional:\n",
    "$$\n",
    "\\vec{f}(\\vec{x^*})=0\\simeq\\vec{f}(\\vec{x_n}) + \\mathbb{J} \\left(\\vec{x^*}-\n",
    "  \\vec{x_n}\\right)\n",
    "$$\n",
    "\\begin{equation}\n",
    "  \\vec{x_{n+1}} = \\vec{x_n} - \\mathbb{J}^{-1} \\left(\\vec{f}(\\vec{x_n})\\right)\n",
    "\\end{equation}\n",
    "que constituye la f\\'ormula de Newton para resolver sistemas generales de\n",
    "$m$ ecuaciones con $m$ inc\\'ognitas. Se hace necesario, en cada paso iterativo,\n",
    "el c\\'alculo de la matriz jacobiana y resolver un sistema lineal de $m$\n",
    "ecuaciones com $m$ inc\\'ognitas."
   ]
  }
 ],
 "metadata": {
  "kernelspec": {
   "display_name": "Python 3",
   "language": "python",
   "name": "python3"
  },
  "language_info": {
   "codemirror_mode": {
    "name": "ipython",
    "version": 3
   },
   "file_extension": ".py",
   "mimetype": "text/x-python",
   "name": "python",
   "nbconvert_exporter": "python",
   "pygments_lexer": "ipython3",
   "version": "3.8.5"
  }
 },
 "nbformat": 4,
 "nbformat_minor": 5
}
