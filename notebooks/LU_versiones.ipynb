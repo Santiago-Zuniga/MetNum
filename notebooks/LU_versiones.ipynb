{
 "cells": [
  {
   "cell_type": "markdown",
   "id": "b28d8052",
   "metadata": {},
   "source": [
    "# Descomposición LU de una matriz"
   ]
  },
  {
   "cell_type": "markdown",
   "id": "677fb50e",
   "metadata": {},
   "source": [
    "Comenzaramos escribiendo las funciones necesarias para crear la matriz $A$ y los vectores $\\vec b$ y $\\vec x$, de dimensión $N$."
   ]
  },
  {
   "cell_type": "code",
   "execution_count": 1,
   "id": "57a8318a",
   "metadata": {},
   "outputs": [],
   "source": [
    "import numpy as np\n",
    "import scipy.linalg   # SciPy Linear Algebra Library\n",
    "\n",
    "def crea_matrices(N = 10):\n",
    "    A = np.random.rand(N,N)\n",
    "    x = np.random.rand(N)\n",
    "    b = A@x\n",
    "    return A, x, b\n",
    "\n",
    "#A, x, b = crea_matrices(3)\n"
   ]
  },
  {
   "cell_type": "markdown",
   "id": "4d958557",
   "metadata": {},
   "source": [
    "### _Foward_ y _backward substitution_\n",
    "Escribamos las funciones necesarias para resolver el sistema de ecuaciones original, una vez que tengamos las matrices L y U.\n"
   ]
  },
  {
   "cell_type": "code",
   "execution_count": 12,
   "id": "cb5ca6d6",
   "metadata": {},
   "outputs": [],
   "source": [
    "def forward_subs(L,b):\n",
    "    y = np.zeros_like(b)\n",
    "    for i in range(b.size):\n",
    "        y[i] = b[i]\n",
    "        for j in range(i):\n",
    "            y[i]=y[i]-(L[i,j]*y[j])\n",
    "        y[i]=y[i]/L[i,i]\n",
    "    return y\n",
    "\n",
    "\n",
    "def back_subs(U,y):\n",
    "    x=np.zeros_like(y)\n",
    "    for i in range(x.size,0,-1):\n",
    "         x[i-1]=(y[i-1]-np.dot(U[i-1,i:],x[i:]))/U[i-1,i-1]          \n",
    "    return x\n",
    "\n",
    "\n",
    "def solve_system_LU(L,U,b):\n",
    "    y=forward_subs(L,b)\n",
    "    x=back_subs(U,y)\n",
    "    return x\n",
    "\n"
   ]
  },
  {
   "cell_type": "markdown",
   "id": "7403abfa",
   "metadata": {},
   "source": [
    "### LU + solución"
   ]
  },
  {
   "cell_type": "code",
   "execution_count": 8,
   "id": "0a1914f8",
   "metadata": {},
   "outputs": [],
   "source": [
    "def LU1(A):\n",
    "    N = A.shape[0]\n",
    "    U = A.copy() #  copiamos A en U, guardaremos en U las matrices intermedias A(k)\n",
    "    L = np.eye(N,N) # L comienza siendo la matriz identidad de n×n\n",
    "    for k in range(N-1):#  loop sobre \"columnas a eliminar\"\n",
    "        for i in range(k+1, N): # recorre elementos por debajo de la diagonal\n",
    "            L[i,k] = -U[i,k] / U[k,k] # calcula el coeficiente\n",
    "            # opera sobre la fila i, recorriendo con j todos los coeficientes\n",
    "            for j in range(N):\n",
    "                U[i,j] = U[i,j] + L[i,k] * U[k,j]\n",
    "            L[i,k] = -L[i,k] # para que queden los coeficientes de L−1\n",
    "    return L, U\n"
   ]
  },
  {
   "cell_type": "code",
   "execution_count": 13,
   "id": "a9f2f6dd",
   "metadata": {},
   "outputs": [
    {
     "name": "stdout",
     "output_type": "stream",
     "text": [
      "x real: [0.51686292 0.30566594 0.03353372]\n",
      "x encontrado: [0.51686292 0.30566594 0.03353372]\n"
     ]
    }
   ],
   "source": [
    "A, x, b = crea_matrices(3)\n",
    "L, U = LU1(A)\n",
    "y = solve_system_LU(L,U, b)\n",
    "print('x real:', x)\n",
    "print('x encontrado:', y)"
   ]
  },
  {
   "cell_type": "code",
   "execution_count": 84,
   "id": "9461da16",
   "metadata": {},
   "outputs": [],
   "source": [
    "import time\n",
    "\n",
    "iters = 10 # iteraciones para mejorar la estadistica\n",
    "N = np.logspace(1,2,20).astype(int)\n",
    "times = np.zeros(N.size)\n",
    "\n",
    "for i in range(iters):\n",
    "    for j, n in enumerate(N):  \n",
    "        A, x, b = crea_matrices(n)\n",
    "        start = time.time() \n",
    "        L, U = LU1(A)\n",
    "        times[j] +=( time.time()-start) /iters\n"
   ]
  },
  {
   "cell_type": "code",
   "execution_count": 85,
   "id": "8a464d02",
   "metadata": {},
   "outputs": [
    {
     "data": {
      "text/plain": [
       "<matplotlib.legend.Legend at 0x24c3ee75490>"
      ]
     },
     "execution_count": 85,
     "metadata": {},
     "output_type": "execute_result"
    },
    {
     "data": {
      "image/png": "[encoded data removed]",
      "text/plain": [
       "<Figure size 432x288 with 1 Axes>"
      ]
     },
     "metadata": {
      "needs_background": "light"
     },
     "output_type": "display_data"
    }
   ],
   "source": [
    "import matplotlib.pyplot as plt\n",
    "f, ax = plt.subplots()\n",
    "ax.loglog(N, times, '*:')\n",
    "ax.loglog(N, N**3/(N[-1]**3), label = 'Recta pendiente = 3')\n",
    "ax.set_xlabel('N')\n",
    "ax.set_ylabel('time [s]')\n",
    "ax.grid()\n",
    "ax.legend()"
   ]
  }
 ],
 "metadata": {
  "kernelspec": {
   "display_name": "Python 3",
   "language": "python",
   "name": "python3"
  },
  "language_info": {
   "codemirror_mode": {
    "name": "ipython",
    "version": 3
   },
   "file_extension": ".py",
   "mimetype": "text/x-python",
   "name": "python",
   "nbconvert_exporter": "python",
   "pygments_lexer": "ipython3",
   "version": "3.8.5"
  }
 },
 "nbformat": 4,
 "nbformat_minor": 5
}
