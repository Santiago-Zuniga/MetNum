{
 "cells": [
  {
   "cell_type": "markdown",
   "id": "f2e6f60c",
   "metadata": {},
   "source": [
    "## Método de Bisección"
   ]
  },
  {
   "cell_type": "code",
   "execution_count": 9,
   "id": "46165973",
   "metadata": {},
   "outputs": [
    {
     "name": "stdout",
     "output_type": "stream",
     "text": [
      "2.7182774543762207\n",
      "Raiz aproximada 2.71827745\n"
     ]
    }
   ],
   "source": [
    "import numpy as np\n",
    "import matplotlib.pyplot as plt\n",
    "\n",
    "# función e intervalo inicial:\n",
    "a = 0.5\n",
    "b = 6\n",
    "def f(x):\n",
    "    return np.log(x) - 1.\n",
    "\n",
    "tol = 1e-6 # Tolerancia: cuando el tamaño del intervalo sea menor, se detiene\n",
    "kmax=20 # Número máximo de iteraciones\n",
    "\n",
    "# Extremos del intervalo de graficación de f(x)\n",
    "xmin = a\n",
    "xmax = b\n",
    "\n",
    "# Genera los vectores para graficar, los xg están equiespaciados\n",
    "xg = np.linspace(xmin,xmax,200)\n",
    "yg = f(xg) # está es la función a graficar, f evaluada en xg\n",
    "\n",
    "#Guarda primeros punto de las secuencias izquierda y derecha, como una lista\n",
    "xl= [a]\n",
    "xr= [b]\n",
    "\n",
    "# Inicialización: contador\n",
    "k = 0\n",
    "\n",
    "m = a #  solamente por si el intervalo inicial es muy pequeño, menor a la tolerancia\n",
    "\n",
    "# Condiciones de parada:\n",
    "# - intervalo menor o igual que tol\n",
    "# - contador mayor o igual que kmax\n",
    "while (abs(a-b) > tol and k < kmax):\n",
    "    k+=1    # incrementa contador\n",
    "    m = (a+b)/2 # Punto del medio\n",
    "#La función cambia de signo entre a y m\n",
    "    if f(m) * f(a) < 0:\n",
    "        b = m;\n",
    "# Idem entre m y b\n",
    "    elif f(m) * f(a) > 0:\n",
    "        a = m\n",
    "# La función es 0 en m\n",
    "    else:\n",
    "        break\n",
    "# Guarda extremos del intervalo para graficar\n",
    "    xl.append(a)\n",
    "    xr.append(a)\n",
    "\n",
    "# pone en pantalla el resultado\n",
    "print(m)\n",
    "print('Raiz aproximada {:2.8f}'.format(m))\n",
    "\n",
    "\n",
    "\n"
   ]
  },
  {
   "cell_type": "code",
   "execution_count": 21,
   "id": "d16a22fe",
   "metadata": {},
   "outputs": [
    {
     "data": {
      "text/plain": [
       "<matplotlib.lines.Line2D at 0x18fc910d430>"
      ]
     },
     "execution_count": 21,
     "metadata": {},
     "output_type": "execute_result"
    },
    {
     "data": {
      "image/png": "[encoded data removed]",
      "text/plain": [
       "<Figure size 432x288 with 1 Axes>"
      ]
     },
     "metadata": {
      "needs_background": "light"
     },
     "output_type": "display_data"
    }
   ],
   "source": [
    "m = (np.array(xl)+np.array(xr))/2  # Aproximaciónes de la raiz en cada iteración\n",
    "\n",
    "\n",
    "plt.plot(xg, yg, label = 'Función')\n",
    "plt.plot(m, f(m), '*',label = 'Raices aproximadas')\n",
    "\n",
    "\n",
    "\n",
    "plt.legend()\n",
    "plt.gca().axhline(0, color='k', alpha = 0.5, ls = 'dashed')\n"
   ]
  }
 ],
 "metadata": {
  "kernelspec": {
   "display_name": "Python 3",
   "language": "python",
   "name": "python3"
  },
  "language_info": {
   "codemirror_mode": {
    "name": "ipython",
    "version": 3
   },
   "file_extension": ".py",
   "mimetype": "text/x-python",
   "name": "python",
   "nbconvert_exporter": "python",
   "pygments_lexer": "ipython3",
   "version": "3.8.5"
  }
 },
 "nbformat": 4,
 "nbformat_minor": 5
}
