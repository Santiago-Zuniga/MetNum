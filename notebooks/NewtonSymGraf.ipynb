{
 "cells": [
  {
   "cell_type": "markdown",
   "id": "6686c32c",
   "metadata": {},
   "source": [
    "# Método de Newton-Raphson\n",
    "## Prueba de derivación usando paquete de álgebra simbólica"
   ]
  },
  {
   "cell_type": "code",
   "execution_count": 1,
   "id": "a82c553a",
   "metadata": {},
   "outputs": [],
   "source": [
    "import numpy as np\n",
    "import matplotlib.pyplot as plt\n",
    "import sympy as sym\n"
   ]
  },
  {
   "cell_type": "markdown",
   "id": "4ee77e9f",
   "metadata": {},
   "source": [
    "Algunos casos de ejemplo. **Correr solo la celda con el caso que se quiere probar.** También se puede cambiar la semilla (x0).\n",
    "1. $f'(x^*) \\neq 0$\n",
    "2. $f'(x^*) = 0$\n",
    "3. $\\sin(x)$"
   ]
  },
  {
   "cell_type": "code",
   "execution_count": 55,
   "id": "c99a564f",
   "metadata": {},
   "outputs": [],
   "source": [
    "#Caso 1\n",
    "Sx = sym.Symbol('x')\n",
    "Sf = Sx**2- 1 #función simbolica\n",
    "x0 = 2.3 #semilla\n"
   ]
  },
  {
   "cell_type": "code",
   "execution_count": 39,
   "id": "2eec11ad",
   "metadata": {},
   "outputs": [],
   "source": [
    "#Caso 2\n",
    "Sx = sym.Symbol('x')\n",
    "Sf = (Sx-1)**2 #función simbolica\n",
    "x0 = 2.3 #semilla\n"
   ]
  },
  {
   "cell_type": "code",
   "execution_count": 58,
   "id": "d69f9911",
   "metadata": {},
   "outputs": [],
   "source": [
    "#Caso 3\n",
    "Sx = sym.Symbol('x')\n",
    "Sf = sym.sin(Sx-1) #función simbolica\n",
    "x0 = 2.0 #semilla\n"
   ]
  },
  {
   "cell_type": "code",
   "execution_count": 52,
   "id": "40d8e2d8",
   "metadata": {},
   "outputs": [],
   "source": [
    "#Caso 4\n",
    "Sx = sym.Symbol('x')\n",
    "Sf = sym.atan(Sx)-sym.pi/4 #función simbolica\n",
    "x0 = 2.0 #semilla"
   ]
  },
  {
   "cell_type": "code",
   "execution_count": 59,
   "id": "33610afc",
   "metadata": {},
   "outputs": [],
   "source": [
    "plt_title = str(Sf) # devuelve la función en formato de string\n",
    "\n",
    "Sdf = sym.diff(Sf, Sx)#derivada simbolica\n",
    "\n",
    "f = sym.utilities.lambdify(Sx,Sf) #f es una función \"estandar\"\n",
    "df = sym.utilities.lambdify(Sx,Sdf) #df es una función \"estandar\"\n",
    "\n",
    "# Función de iteración\n",
    "Sphi=Sx-Sf/Sdf\n",
    "phi = sym.utilities.lambdify(Sx,Sphi)\n",
    "\n",
    "tol = 1e-6 # Tolerancia: cuando la diferencia entre una aproximación y la siguente sea menor, se detiene\n",
    "kmax=21 # Número máximo de iteraciones\n",
    "\n",
    "# Extremos del intervalo de graficación de f(x)\n",
    "xmin=0\n",
    "xmax=2.49\n",
    "\n",
    "# Genera los vectores para graficar, los xg están equiespaciados\n",
    "xg=np.linspace(xmin,xmax,100)\n",
    "yg=f(xg)\n",
    "\n",
    "\n",
    "# Guarda primer punto de la secuencia (x0,0)\n",
    "x = [x0]\n",
    "y = [0]\n",
    "\n",
    "# Inicialización: semilla\n",
    "xprev = x0\n",
    "# Inicialización: correcci'on inicial (arbitraria)\n",
    "corr = 2*tol\n",
    "# Inicialización: contador\n",
    "k = 0\n",
    "# Condiciones de parada:\n",
    "# - correci'on menor o igual que tol\n",
    "# - contador mayor o igual que kmax\n",
    "# - norma de x mayor o igual que 3\n",
    "while corr > tol and k < kmax and np.linalg.norm(xprev)<3:\n",
    "    k += 1    # incrementa contador\n",
    "#iteración propiamente dicha:  \n",
    "    xnext=xprev-f(xprev)/df(xprev)\n",
    "# Guarda un par de puntos de la secuencia:\n",
    "# -Punto sobre y=f(x)\n",
    "    x.append(xprev)\n",
    "    y.append(f(xprev))\n",
    "# -Punto sobre y=0\n",
    "    x.append(xnext)\n",
    "    y.append(0)\n",
    "# Calcula cuánto fue la corrección\n",
    "    corr=np.linalg.norm(xnext-xprev)\n",
    "# Guarda último valor de la aproximación en xprev\n",
    "    xprev = xnext\n",
    "    "
   ]
  },
  {
   "cell_type": "code",
   "execution_count": 60,
   "id": "a52181e8",
   "metadata": {},
   "outputs": [
    {
     "data": {
      "text/plain": [
       "Text(0.5, 1.0, 'sin(x - 1)')"
      ]
     },
     "execution_count": 60,
     "metadata": {},
     "output_type": "execute_result"
    },
    {
     "data": {
      "image/png": "[encoded data removed]",
      "text/plain": [
       "<Figure size 432x288 with 1 Axes>"
      ]
     },
     "metadata": {
      "needs_background": "light"
     },
     "output_type": "display_data"
    }
   ],
   "source": [
    "# Grafica: y=x, y=f(x), puntos de la secuencia y la recta y=0\n",
    "plt.plot(xg, yg)\n",
    "plt.plot(x, y)\n",
    "plt.plot(xg,0*xg, 'k', alpha = 0.5, ls = 'dashed')\n",
    "plt.plot(x0, 0, 'o') # semilla inicial\n",
    "plt.title(plt_title)"
   ]
  },
  {
   "cell_type": "code",
   "execution_count": 61,
   "id": "83ac66e0",
   "metadata": {
    "scrolled": true
   },
   "outputs": [
    {
     "data": {
      "text/plain": [
       "(0.0, 2.49)"
      ]
     },
     "execution_count": 61,
     "metadata": {},
     "output_type": "execute_result"
    },
    {
     "data": {
      "image/png": "[encoded data removed]",
      "text/plain": [
       "<Figure size 432x288 with 1 Axes>"
      ]
     },
     "metadata": {
      "needs_background": "light"
     },
     "output_type": "display_data"
    }
   ],
   "source": [
    "# Grafica: y=x, función de iteración\n",
    "plt.plot(xg, phi(xg))\n",
    "plt.plot(xg, xg, 'k', alpha = 0.5, ls = 'dashed')\n",
    "plt.plot(x[0:-2], x[1:-1])\n",
    "plt.gca().set_ylim(xmin, xmax)\n",
    "\n"
   ]
  }
 ],
 "metadata": {
  "kernelspec": {
   "display_name": "Python 3",
   "language": "python",
   "name": "python3"
  },
  "language_info": {
   "codemirror_mode": {
    "name": "ipython",
    "version": 3
   },
   "file_extension": ".py",
   "mimetype": "text/x-python",
   "name": "python",
   "nbconvert_exporter": "python",
   "pygments_lexer": "ipython3",
   "version": "3.8.5"
  }
 },
 "nbformat": 4,
 "nbformat_minor": 5
}
