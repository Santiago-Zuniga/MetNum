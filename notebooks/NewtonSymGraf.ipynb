{
 "cells": [
  {
   "cell_type": "markdown",
   "id": "3156b497",
   "metadata": {},
   "source": [
    "# Método de Newton-Raphson\n",
    "## Prueba de derivación usando paquete de álgebra simbólica"
   ]
  },
  {
   "cell_type": "code",
   "execution_count": 1,
   "id": "65925232",
   "metadata": {},
   "outputs": [],
   "source": [
    "import numpy as np\n",
    "import matplotlib.pyplot as plt\n",
    "import sympy as sym\n"
   ]
  },
  {
   "cell_type": "markdown",
   "id": "98424410",
   "metadata": {},
   "source": [
    "Algunos casos de ejemplo. **Correr solo la celda con el caso que se quiere probar.** También se puede cambiar la semilla (x0).\n",
    "1. $f'(x^*) \\neq 0$\n",
    "2. $f'(x^*) = 0$\n",
    "3. $\\sin(x-1)$\n",
    "4. $\\arctan(x)-\\pi/4$"
   ]
  },
  {
   "cell_type": "code",
   "execution_count": 2,
   "id": "a0a39204",
   "metadata": {},
   "outputs": [],
   "source": [
    "#Caso 1\n",
    "Sx = sym.Symbol('x')\n",
    "Sf = Sx**2- 1 #función simbolica\n",
    "x0 = 2.3 #semilla\n"
   ]
  },
  {
   "cell_type": "code",
   "execution_count": 16,
   "id": "f30af015",
   "metadata": {},
   "outputs": [],
   "source": [
    "#Caso 2\n",
    "Sx = sym.Symbol('x')\n",
    "Sf = (Sx-1)**2 #función simbolica\n",
    "x0 = 2.3 #semilla\n"
   ]
  },
  {
   "cell_type": "code",
   "execution_count": 6,
   "id": "27698e05",
   "metadata": {},
   "outputs": [],
   "source": [
    "#Caso 3\n",
    "Sx = sym.Symbol('x')\n",
    "Sf = sym.sin(Sx-1) #función simbolica\n",
    "x0 = 2.0 #semilla\n"
   ]
  },
  {
   "cell_type": "code",
   "execution_count": 52,
   "id": "0d735f12",
   "metadata": {},
   "outputs": [],
   "source": [
    "#Caso 4\n",
    "Sx = sym.Symbol('x')\n",
    "Sf = sym.atan(Sx)-sym.pi/4 #función simbolica\n",
    "x0 = 2.0 #semilla"
   ]
  },
  {
   "cell_type": "code",
   "execution_count": 17,
   "id": "6caab109",
   "metadata": {},
   "outputs": [
    {
     "name": "stdout",
     "output_type": "stream",
     "text": [
      "Raíz encontrada: 1.00\n",
      "Derivadas de la función de iteración:\n",
      "1ra:  (2 - 2*x)/(2*x - 2) + 2*(x - 1)**2/(2*x - 2)**2 + 1\n",
      "2ra:  -2*(2 - 2*x)/(2*x - 2)**2 - 8*(x - 1)**2/(2*x - 2)**3 - 2/(2*x - 2) + (4*x - 4)/(2*x - 2)**2\n",
      "3ra:  8*(2 - 2*x)/(2*x - 2)**3 + (16 - 16*x)/(2*x - 2)**3 + 48*(x - 1)**2/(2*x - 2)**4 + 12/(2*x - 2)**2 - 4*(4*x - 4)/(2*x - 2)**3\n",
      "Evaluadas en: 1.00\n",
      "1ra: 0.5\n",
      "2ra: 0.0\n",
      "3ra: 0.0009765625\n"
     ]
    }
   ],
   "source": [
    "plt_title = str(Sf) # devuelve la función en formato de string\n",
    "\n",
    "Sdf = sym.diff(Sf, Sx)#derivada simbolica\n",
    "\n",
    "f = sym.utilities.lambdify(Sx,Sf) #f es una función \"estandar\"\n",
    "df = sym.utilities.lambdify(Sx,Sdf) #df es una función \"estandar\"\n",
    "\n",
    "# Función de iteración\n",
    "Sphi=Sx-Sf/Sdf\n",
    "phi = sym.utilities.lambdify(Sx,Sphi)\n",
    "# Derivadas de la función de iteración\n",
    "Sphi1=sym.diff(Sphi,Sx)\n",
    "Sphi2=sym.diff(Sphi1,Sx)\n",
    "Sphi3=sym.diff(Sphi2,Sx)\n",
    "phi1=sym.utilities.lambdify(Sx,Sphi1)\n",
    "phi2=sym.utilities.lambdify(Sx,Sphi2)\n",
    "phi3=sym.utilities.lambdify(Sx,Sphi3)\n",
    "\n",
    "\n",
    "tol = 1e-6 # Tolerancia: cuando la diferencia entre una aproximación y la siguente sea menor, se detiene\n",
    "kmax=21 # Número máximo de iteraciones\n",
    "\n",
    "# Extremos del intervalo de graficación de f(x)\n",
    "xmin=0\n",
    "xmax=2.49\n",
    "\n",
    "# Genera los vectores para graficar, los xg están equiespaciados\n",
    "xg=np.linspace(xmin,xmax,100)\n",
    "yg=f(xg)\n",
    "\n",
    "\n",
    "# Guarda primer punto de la secuencia (x0,0)\n",
    "x = [x0]\n",
    "y = [0]\n",
    "\n",
    "# Inicialización: semilla\n",
    "xprev = x0\n",
    "# Inicialización: correcci'on inicial (arbitraria)\n",
    "corr = 2*tol\n",
    "# Inicialización: contador\n",
    "k = 0\n",
    "# Condiciones de parada:\n",
    "# - correci'on menor o igual que tol\n",
    "# - contador mayor o igual que kmax\n",
    "# - norma de x mayor o igual que 3\n",
    "while corr > tol and k < kmax and np.linalg.norm(xprev)<3:\n",
    "    k += 1    # incrementa contador\n",
    "#iteración propiamente dicha:  \n",
    "    xnext=xprev-f(xprev)/df(xprev)\n",
    "# Guarda un par de puntos de la secuencia:\n",
    "# -Punto sobre y=f(x)\n",
    "    x.append(xprev)\n",
    "    y.append(f(xprev))\n",
    "# -Punto sobre y=0\n",
    "    x.append(xnext)\n",
    "    y.append(0)\n",
    "# Calcula cuánto fue la corrección\n",
    "    corr=np.linalg.norm(xnext-xprev)\n",
    "# Guarda último valor de la aproximación en xprev\n",
    "    xprev = xnext\n",
    "    \n",
    "if(corr <= tol): # El método \"llegó\" a la solución\n",
    "    print('Raíz encontrada: {:2.2f}'.format(xnext))\n",
    "    print('Derivadas de la función de iteración:')\n",
    "    print('1ra: ',Sphi1)\n",
    "    print('2ra: ',Sphi2)\n",
    "    print('3ra: ',Sphi3)\n",
    "    print('Evaluadas en: {:2.2f}'.format(xnext))\n",
    "    print('1ra: {}'.format(phi1(xnext)))\n",
    "    print('2ra: {}'.format(phi2(xnext)))\n",
    "    print('3ra: {}'.format(phi3(xnext)))\n"
   ]
  },
  {
   "cell_type": "code",
   "execution_count": 18,
   "id": "d8d8db70",
   "metadata": {},
   "outputs": [
    {
     "data": {
      "text/plain": [
       "Text(0.5, 1.0, '(x - 1)**2')"
      ]
     },
     "execution_count": 18,
     "metadata": {},
     "output_type": "execute_result"
    },
    {
     "data": {
      "image/png": "[encoded data removed]",
      "text/plain": [
       "<Figure size 432x288 with 1 Axes>"
      ]
     },
     "metadata": {
      "needs_background": "light"
     },
     "output_type": "display_data"
    }
   ],
   "source": [
    "# Grafica: y=x, y=f(x), puntos de la secuencia y la recta y=0\n",
    "plt.plot(xg, yg)\n",
    "plt.plot(x, y)\n",
    "plt.plot(xg,0*xg, 'k', alpha = 0.5, ls = 'dashed')\n",
    "plt.plot(x0, 0, 'o') # semilla inicial\n",
    "plt.title(plt_title)"
   ]
  },
  {
   "cell_type": "code",
   "execution_count": 19,
   "id": "38962cff",
   "metadata": {
    "scrolled": false
   },
   "outputs": [
    {
     "data": {
      "text/plain": [
       "(0.0, 2.49)"
      ]
     },
     "execution_count": 19,
     "metadata": {},
     "output_type": "execute_result"
    },
    {
     "data": {
      "image/png": "[encoded data removed]",
      "text/plain": [
       "<Figure size 432x288 with 1 Axes>"
      ]
     },
     "metadata": {
      "needs_background": "light"
     },
     "output_type": "display_data"
    }
   ],
   "source": [
    "# Grafica: y=x, función de iteración\n",
    "plt.plot(xg, phi(xg))\n",
    "plt.plot(xg, xg, 'k', alpha = 0.5, ls = 'dashed')\n",
    "plt.plot(x[0:-2], x[1:-1])\n",
    "plt.gca().set_ylim(xmin, xmax)\n",
    "\n"
   ]
  },
  {
   "cell_type": "markdown",
   "id": "79837b0f",
   "metadata": {},
   "source": [
    "El orden de convergencia también se puede verificar graficando $\\epsilon^{k+1}$ vs $\\epsilon^{k}$:"
   ]
  },
  {
   "cell_type": "code",
   "execution_count": 22,
   "id": "4c517000",
   "metadata": {},
   "outputs": [
    {
     "data": {
      "text/plain": [
       "Text(0, 0.5, '$\\\\epsilon^{k+1}$')"
      ]
     },
     "execution_count": 22,
     "metadata": {},
     "output_type": "execute_result"
    },
    {
     "data": {
      "image/png": "[encoded data removed]",
      "text/plain": [
       "<Figure size 432x288 with 1 Axes>"
      ]
     },
     "metadata": {
      "needs_background": "light"
     },
     "output_type": "display_data"
    }
   ],
   "source": [
    "xvalues=np.array(x[1:-1:2])\n",
    "err=np.abs(xvalues - xnext)\n",
    "plt.loglog(err[:-2], err[1:-1], 'o-')\n",
    "plt.grid()\n",
    "plt.gca().set_xlabel(r'$\\epsilon^{k}$')\n",
    "plt.gca().set_ylabel(r'$\\epsilon^{k+1}$')\n"
   ]
  }
 ],
 "metadata": {
  "kernelspec": {
   "display_name": "Python 3",
   "language": "python",
   "name": "python3"
  },
  "language_info": {
   "codemirror_mode": {
    "name": "ipython",
    "version": 3
   },
   "file_extension": ".py",
   "mimetype": "text/x-python",
   "name": "python",
   "nbconvert_exporter": "python",
   "pygments_lexer": "ipython3",
   "version": "3.8.5"
  }
 },
 "nbformat": 4,
 "nbformat_minor": 5
}
