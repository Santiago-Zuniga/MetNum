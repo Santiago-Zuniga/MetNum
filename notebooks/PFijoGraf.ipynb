{
 "cells": [
  {
   "cell_type": "markdown",
   "id": "20b1c981",
   "metadata": {},
   "source": [
    "%\n",
    "% caso 1: 0<f'(x*)<1    %\n",
    "f = @(x) 1 + exp(x)/10;   x0=2.2;\n",
    "% caso 2: -1<f'(x*)<0   %f = @(x) 2 - exp(x)/10;   x0=0.2;\n",
    "% caso 3: 1<f'(x*)      %f = @(x) exp(x) - 1.7183; x0=1.01;\n",
    "% caso 4: f'(x*)<-1     %f = @(x) 3.7183 - exp(x); x0=1.01;\n",
    "% caso 5: f'(x*)=0      %f = @(x) (x-1).^2 + 1;    x0 = 1.7;\n",
    "\n"
   ]
  },
  {
   "cell_type": "markdown",
   "id": "b89db6aa",
   "metadata": {},
   "source": [
    "# Método del punto fijo o de aproximaciones sucesivas"
   ]
  },
  {
   "cell_type": "code",
   "execution_count": 1,
   "id": "48a42f13",
   "metadata": {},
   "outputs": [],
   "source": [
    "import numpy as np\n",
    "import matplotlib.pyplot as plt\n"
   ]
  },
  {
   "cell_type": "markdown",
   "id": "068e771d",
   "metadata": {},
   "source": [
    "Algunos casos de ejemplo. **Correr solo la celda con el caso que se quiere probar.** También se puede cambiar la semilla (x0).\n",
    "1. $0<f'(x^*)<1$\n",
    "2. $-1<f'(x^*)<0$\n",
    "3. $1<f'(x^*)$\n",
    "4. $f'(x^*)<-1$\n",
    "5. $f'(x*)=0$"
   ]
  },
  {
   "cell_type": "code",
   "execution_count": 33,
   "id": "691bd7b3",
   "metadata": {},
   "outputs": [],
   "source": [
    "#Caso 1\n",
    "def f(x):\n",
    "    return 1 + np.exp(x)/10  \n",
    "\n",
    "x0=2.2\n",
    "\n",
    "plt_title = r'Caso 1, $0<f^\\prime(x^*)<1$'"
   ]
  },
  {
   "cell_type": "code",
   "execution_count": 36,
   "id": "24ac0845",
   "metadata": {},
   "outputs": [],
   "source": [
    "#Caso 2\n",
    "def f(x):\n",
    "    return 2 - np.exp(x)/10  \n",
    "\n",
    "x0=0.2\n",
    "plt_title = r'Caso 2, $-1<f^\\prime(x^*)<0$'"
   ]
  },
  {
   "cell_type": "code",
   "execution_count": 39,
   "id": "14f9056f",
   "metadata": {},
   "outputs": [],
   "source": [
    "#Caso 3\n",
    "def f(x):\n",
    "    return np.exp(x) - 1.7183\n",
    "\n",
    "x0=1.01\n",
    "plt_title = r'Caso 3, $1<f^\\prime(x^*)$'"
   ]
  },
  {
   "cell_type": "code",
   "execution_count": 48,
   "id": "b8ec5e89",
   "metadata": {},
   "outputs": [],
   "source": [
    "#Caso 4\n",
    "def f(x):\n",
    "    return 3.7183 - np.exp(x)\n",
    "\n",
    "x0=1.01\n",
    "plt_title = r'Caso 4, $f^\\prime(x^*)<-1$'"
   ]
  },
  {
   "cell_type": "code",
   "execution_count": 49,
   "id": "c7b13440",
   "metadata": {},
   "outputs": [],
   "source": [
    "#Caso 5\n",
    "def f(x):\n",
    "    return (x-1)**2 + 1\n",
    "\n",
    "x0=1.7\n",
    "plt_title = r'Caso 4, $f^\\prime(x*)=0$'"
   ]
  },
  {
   "cell_type": "code",
   "execution_count": 50,
   "id": "7a4e0a50",
   "metadata": {},
   "outputs": [],
   "source": [
    "tol = 1e-6 # Tolerancia: cuando la diferencia entre una aproximación y la siguente sea menor, se detiene\n",
    "kmax=10 # Número máximo de iteraciones\n",
    "\n",
    "# Extremos del intervalo de graficación de f(x)\n",
    "xmin=0\n",
    "xmax=2.49\n",
    "\n",
    "# Genera los vectores para graficar, los xg están equiespaciados\n",
    "xg=np.linspace(xmin,xmax,100)\n",
    "yg=f(xg)\n",
    "\n",
    "\n",
    "# Guarda primer punto de la secuencia (x0,0)\n",
    "x = [x0]\n",
    "y = [0]\n",
    "\n",
    "# Inicialización: semilla\n",
    "xprev = x0\n",
    "# Inicialización: correcci'on inicial (arbitraria)\n",
    "corr = 2*tol\n",
    "# Inicialización: contador\n",
    "k = 0\n",
    "\n",
    "# Condiciones de parada:\n",
    "# - correcci'on menor o igual que tol\n",
    "# - contador mayor o igual que kmax\n",
    "# - norma de x mayor o igual que 3\n",
    "\n",
    "while corr > tol and k < kmax and np.linalg.norm(xprev)<3:\n",
    "    k += 1    # incrementa contador\n",
    "# iteración propiamente dicha:  \n",
    "    xnext=f(xprev)\n",
    "# Guarda un par de puntos de la secuencia:\n",
    "# -Punto sobre y=f(x)0 \n",
    "    x.append(xprev)\n",
    "    y.append(xnext)\n",
    "# -Punto sobre y=x\n",
    "    x.append(xnext)\n",
    "    y.append(xnext)\n",
    "# Calcula cuánto fue la corrección\n",
    "    corr=np.linalg.norm(xnext-xprev)\n",
    "# Guarda último valor de la aproximación en xprev\n",
    "    xprev = xnext\n"
   ]
  },
  {
   "cell_type": "code",
   "execution_count": 51,
   "id": "5cd9a5a3",
   "metadata": {},
   "outputs": [
    {
     "data": {
      "text/plain": [
       "Text(0.5, 1.0, 'Caso 4, $f^\\\\prime(x*)=0$')"
      ]
     },
     "execution_count": 51,
     "metadata": {},
     "output_type": "execute_result"
    },
    {
     "data": {
      "image/png": "[encoded data removed]",
      "text/plain": [
       "<Figure size 432x288 with 1 Axes>"
      ]
     },
     "metadata": {
      "needs_background": "light"
     },
     "output_type": "display_data"
    }
   ],
   "source": [
    "# Grafica: y=x, y=f(x), puntos de la secuencia y la recta y=x\n",
    "plt.plot(xg, yg)\n",
    "plt.plot(x, y)\n",
    "plt.plot(xg,xg, 'k', alpha = 0.5, ls = 'dashed')\n",
    "plt.plot(x0, 0, 'o') # semilla inicial\n",
    "plt.title(plt_title)"
   ]
  }
 ],
 "metadata": {
  "kernelspec": {
   "display_name": "Python 3",
   "language": "python",
   "name": "python3"
  },
  "language_info": {
   "codemirror_mode": {
    "name": "ipython",
    "version": 3
   },
   "file_extension": ".py",
   "mimetype": "text/x-python",
   "name": "python",
   "nbconvert_exporter": "python",
   "pygments_lexer": "ipython3",
   "version": "3.8.5"
  }
 },
 "nbformat": 4,
 "nbformat_minor": 5
}
