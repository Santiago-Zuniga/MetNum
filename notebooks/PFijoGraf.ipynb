{
 "cells": [
  {
   "cell_type": "markdown",
   "id": "6761b6c7",
   "metadata": {},
   "source": [
    "%\n",
    "% Método del punto fijo o de aproximaciones sucesivas\n",
    "%\n",
    "% Algunos casos ejemplo:\n",
    "% descomentar alguna línea o programar\n",
    "% otra función de iteración y/o cambiar la semilla\n",
    "%\n",
    "% caso 1: 0<f'(x*)<1    %\n",
    "f = @(x) 1 + exp(x)/10;   x0=2.2;\n",
    "% caso 2: -1<f'(x*)<0   %f = @(x) 2 - exp(x)/10;   x0=0.2;\n",
    "% caso 3: 1<f'(x*)      %f = @(x) exp(x) - 1.7183; x0=1.01;\n",
    "% caso 4: f'(x*)<-1     %f = @(x) 3.7183 - exp(x); x0=1.01;\n",
    "% caso 5: f'(x*)=0      %f = @(x) (x-1).^2 + 1;    x0 = 1.7;\n",
    "\n",
    "% Tolerancia: cuando la diferencia entre una\n",
    "% aproximación y la siguente sea menor, se detiene\n",
    "tol = 1e-6;\n",
    "\n",
    "% Número máximo de iteraciones\n",
    "kmax=10;\n",
    "\n",
    "% Extremos del intervalo de graficación de f(x)\n",
    "xmin=0;\n",
    "xmax=2.49;\n",
    "\n",
    "% Número de puntos de graficación de f(x)\n",
    "npg=100;\n",
    "\n",
    "% Genera los vectores para graficar, los\n",
    "% xg están equiespaciados\n",
    "xg=linspace(xmin,xmax,npg);\n",
    "yg=f(xg);\n",
    "\n",
    "% Guarda primer punto de la secuencia (x0,0)\n",
    "x= x0;\n",
    "y= 0;\n",
    "\n",
    "% Inicialización: semilla\n",
    "xprev=x0;\n",
    "% Inicialización: correcci'on inicial (arbitraria)\n",
    "corr = 2*tol;\n",
    "% Inicialización: contador\n",
    "k = 0;\n",
    "% Condiciones de parada:\n",
    "% - correcci'on menor o igual que tol\n",
    "% - contador mayor o igual que kmax\n",
    "% - norma de x mayor o igual que 3\n",
    "while (corr > tol && k < kmax && norm(xprev)<3)\n",
    "  k=k+1;    % incrementa contador\n",
    "% iteración propiamente dicha:  \n",
    "  xnext=f(xprev);\n",
    "% Guarda un par de puntos de la secuencia:\n",
    "% (end: posici'on final en vector x, y)\n",
    "% -Punto sobre y=f(x)0 \n",
    "  x(end+1) = xprev;\n",
    "  y(end+1) = xnext;\n",
    "% -Punto sobre y=x\n",
    "  x(end+1) = xnext;\n",
    "  y(end+1) = xnext;\n",
    "% Calcula cuánto fue la corrección\n",
    "  corr=norm(xnext-xprev);\n",
    "% Guarda último valor de la aproximación en xprev\n",
    "  xprev = xnext;\n",
    "endwhile\n",
    "% Grafica: y=x, y=f(x), puntos de la secuencia\n",
    "plot([xmin xmax],[xmin xmax], xg, yg, x,y)"
   ]
  },
  {
   "cell_type": "markdown",
   "id": "6655e6ef",
   "metadata": {},
   "source": [
    "# Método del punto fijo o de aproximaciones sucesivas"
   ]
  },
  {
   "cell_type": "code",
   "execution_count": null,
   "id": "fbcdd9ae",
   "metadata": {},
   "outputs": [],
   "source": [
    "import numpy as np\n",
    "import matplotlib.pyplot as plt\n"
   ]
  },
  {
   "cell_type": "markdown",
   "id": "a8f27330",
   "metadata": {},
   "source": [
    "Algunos casos de ejemplo. **Correr solo la celda con el caso que se quiere probar.**\n",
    "1. Caso 1: $0<f'(x*)<1$\n",
    "2. Caso 2: $-1<f'(x*)<0$"
   ]
  },
  {
   "cell_type": "code",
   "execution_count": null,
   "id": "a0d83408",
   "metadata": {},
   "outputs": [],
   "source": []
  }
 ],
 "metadata": {
  "kernelspec": {
   "display_name": "Python 3",
   "language": "python",
   "name": "python3"
  },
  "language_info": {
   "codemirror_mode": {
    "name": "ipython",
    "version": 3
   },
   "file_extension": ".py",
   "mimetype": "text/x-python",
   "name": "python",
   "nbconvert_exporter": "python",
   "pygments_lexer": "ipython3",
   "version": "3.8.5"
  }
 },
 "nbformat": 4,
 "nbformat_minor": 5
}
