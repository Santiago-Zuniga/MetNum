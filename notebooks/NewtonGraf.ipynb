{
 "cells": [
  {
   "cell_type": "markdown",
   "id": "0353430c",
   "metadata": {},
   "source": [
    "# Método de Newton-Raphson"
   ]
  },
  {
   "cell_type": "code",
   "execution_count": 10,
   "id": "6dd64877",
   "metadata": {},
   "outputs": [],
   "source": [
    "import numpy as np\n",
    "import matplotlib.pyplot as plt"
   ]
  },
  {
   "cell_type": "markdown",
   "id": "80e01498",
   "metadata": {},
   "source": [
    "Algunos casos de ejemplo. **Correr solo la celda con el caso que se quiere probar.** También se puede cambiar la semilla (x0).\n",
    "1. $f'(x^*) \\neq 0$\n",
    "2. $f'(x^*) = 0$\n",
    "3. $\\sin(x)$"
   ]
  },
  {
   "cell_type": "code",
   "execution_count": 11,
   "id": "7a5b3f74",
   "metadata": {},
   "outputs": [],
   "source": [
    "#Caso 1\n",
    "def f(x):\n",
    "    return x**2 - 1\n",
    "def df(x):\n",
    "    return 2*x\n",
    "\n",
    "x0 = 2.3\n",
    "\n",
    "plt_title = r'Caso 1, $f^\\prime(x^*) \\neq 0$'"
   ]
  },
  {
   "cell_type": "code",
   "execution_count": 36,
   "id": "b3365ae0",
   "metadata": {},
   "outputs": [],
   "source": [
    "#Caso 2\n",
    "def f(x):\n",
    "    return (x-1)**2\n",
    "def df(x):\n",
    "    return 2*(x-1)\n",
    "\n",
    "x0 = 2.3\n",
    "\n",
    "plt_title = r'Caso 2, $f^\\prime(x^*) = 0$'"
   ]
  },
  {
   "cell_type": "code",
   "execution_count": 30,
   "id": "3e8cdc31",
   "metadata": {},
   "outputs": [],
   "source": [
    "#Caso 3\n",
    "def f(x):\n",
    "    return np.sin(x-1)\n",
    "def df(x):\n",
    "    return np.cos(x-1)\n",
    "\n",
    "x0 = 2.0  #jugar con esta semilla\n",
    "\n",
    "plt_title = r'Caso 3, $\\sin(x)$'"
   ]
  },
  {
   "cell_type": "code",
   "execution_count": 34,
   "id": "7512304d",
   "metadata": {},
   "outputs": [],
   "source": [
    "tol = 1e-6 # Tolerancia: cuando la diferencia entre una aproximación y la siguente sea menor, se detiene\n",
    "kmax=10 # Número máximo de iteraciones\n",
    "\n",
    "# Extremos del intervalo de graficación de f(x)\n",
    "xmin=0\n",
    "xmax=2.49\n",
    "\n",
    "# Genera los vectores para graficar, los xg están equiespaciados\n",
    "xg=np.linspace(xmin,xmax,100)\n",
    "yg=f(xg)\n",
    "\n",
    "\n",
    "# Guarda primer punto de la secuencia (x0,0)\n",
    "x = [x0]\n",
    "y = [0]\n",
    "\n",
    "# Inicialización: semilla\n",
    "xprev = x0\n",
    "# Inicialización: correcci'on inicial (arbitraria)\n",
    "corr = 2*tol\n",
    "# Inicialización: contador\n",
    "k = 0\n",
    "\n",
    "# Condiciones de parada:\n",
    "# - correci'on menor o igual que tol\n",
    "# - contador mayor o igual que kmax\n",
    "# - norma de x mayor o igual que 3\n",
    "while corr > tol and k < kmax and np.linalg.norm(xprev)<3:\n",
    "    k += 1    # incrementa contador\n",
    "#iteración propiamente dicha:  \n",
    "    xnext=xprev-f(xprev)/df(xprev)\n",
    "# Guarda un par de puntos de la secuencia:\n",
    "# -Punto sobre y=f(x)\n",
    "    x.append(xprev)\n",
    "    y.append(f(xprev))\n",
    "# -Punto sobre y=0\n",
    "    x.append(xnext)\n",
    "    y.append(0)\n",
    "# Calcula cuánto fue la corrección\n",
    "    corr=np.linalg.norm(xnext-xprev)\n",
    "# Guarda último valor de la aproximación en xprev\n",
    "    xprev = xnext\n",
    "    \n"
   ]
  },
  {
   "cell_type": "code",
   "execution_count": 37,
   "id": "b807fee4",
   "metadata": {},
   "outputs": [
    {
     "data": {
      "text/plain": [
       "Text(0.5, 1.0, 'Caso 2, $f^\\\\prime(x^*) = 0$')"
      ]
     },
     "execution_count": 37,
     "metadata": {},
     "output_type": "execute_result"
    },
    {
     "data": {
      "image/png": "[encoded data removed]",
      "text/plain": [
       "<Figure size 432x288 with 1 Axes>"
      ]
     },
     "metadata": {
      "needs_background": "light"
     },
     "output_type": "display_data"
    }
   ],
   "source": [
    "# Grafica: y=x, y=f(x), puntos de la secuencia y la recta y=0\n",
    "plt.plot(xg, yg)\n",
    "plt.plot(x, y)\n",
    "plt.plot(xg,0*xg, 'k', alpha = 0.5, ls = 'dashed')\n",
    "plt.plot(x0, 0, 'o') # semilla inicial\n",
    "plt.title(plt_title)"
   ]
  }
 ],
 "metadata": {
  "kernelspec": {
   "display_name": "Python 3",
   "language": "python",
   "name": "python3"
  },
  "language_info": {
   "codemirror_mode": {
    "name": "ipython",
    "version": 3
   },
   "file_extension": ".py",
   "mimetype": "text/x-python",
   "name": "python",
   "nbconvert_exporter": "python",
   "pygments_lexer": "ipython3",
   "version": "3.8.5"
  }
 },
 "nbformat": 4,
 "nbformat_minor": 5
}
